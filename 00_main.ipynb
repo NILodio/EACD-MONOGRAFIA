{
 "cells": [
  {
   "cell_type": "markdown",
   "metadata": {
    "colab_type": "text",
    "id": "view-in-github"
   },
   "source": [
    "<a href=\"https://colab.research.google.com/github/NILodio/EACD-MONOGRAFIA/blob/master/01_MONOGRAFIA.ipynb\" target=\"_parent\"><img src=\"https://colab.research.google.com/assets/colab-badge.svg\" alt=\"Open In Colab\"/></a>"
   ]
  },
  {
   "cell_type": "markdown",
   "metadata": {},
   "source": [
    "# (Key Word)\n",
    "\n",
    "Hello, I hope you are having a great day.\n",
    "\n",
    "In this notebook, I will try the process of implementing CNN with Keras in order to classify images a find a key word.\n",
    "1. Firstly, we'll import usefull packages.\n",
    "1. Then, we'll load the data, before visualize and preprocess it.\n",
    "1. We'll try a simple CNN model and then we will evaluate its performances.\n",
    "1. We will then use pre trained model to address this challenge aswell."
   ]
  },
  {
   "cell_type": "markdown",
   "metadata": {},
   "source": [
    "# Import Packages"
   ]
  },
  {
   "cell_type": "code",
   "execution_count": 5,
   "metadata": {},
   "outputs": [],
   "source": [
    "import xml.etree.ElementTree as ET\n",
    "import matplotlib.pyplot as plt\n",
    "import pandas as pd\n",
    "import numpy as np\n",
    "from PIL import Image\n",
    "import os\n",
    "import uuid\n",
    "import json\n",
    "import tensorflow as tf"
   ]
  },
  {
   "cell_type": "code",
   "execution_count": 6,
   "metadata": {},
   "outputs": [],
   "source": [
    "from local.lib import load_data"
   ]
  },
  {
   "cell_type": "code",
   "execution_count": null,
   "metadata": {},
   "outputs": [],
   "source": []
  },
  {
   "cell_type": "markdown",
   "metadata": {},
   "source": [
    "# Loading the Data\n",
    "We have to write a load_data function that load the images and the labels from the folder."
   ]
  },
  {
   "cell_type": "code",
   "execution_count": 2,
   "metadata": {},
   "outputs": [],
   "source": [
    "#Labels\n",
    "dic = {'Formato_1': 1, 'Formato_2': 2, 'Formato_3': 3}"
   ]
  },
  {
   "cell_type": "code",
   "execution_count": 3,
   "metadata": {},
   "outputs": [],
   "source": [
    "\n",
    "## read xml a get import items \n",
    "def read_content(xml_file: str):\n",
    "\n",
    "    tree = ET.parse(xml_file)\n",
    "    root = tree.getroot()\n",
    "\n",
    "    list_with_all_boxes = []\n",
    "    list_with_all_names = []\n",
    "    list_with_all_size = []\n",
    "    \n",
    "    ##\n",
    "\n",
    "    for boxes in root.iter('object'):\n",
    "\n",
    "        file_name = root.find('filename').text\n",
    "        file_path = root.find('path').text\n",
    "        name = boxes.find('name').text\n",
    "        width = int(root.find(\"size\").find(\"width\").text)\n",
    "        height = int(root.find(\"size\").find(\"height\").text)\n",
    "        \n",
    "        ymin, xmin, ymax, xmax = None, None, None, None\n",
    "\n",
    "        for box in boxes.findall(\"bndbox\"):\n",
    "            ymin = int(box.find(\"ymin\").text)\n",
    "            xmin = int(box.find(\"xmin\").text)\n",
    "            ymax = int(box.find(\"ymax\").text)\n",
    "            xmax = int(box.find(\"xmax\").text)\n",
    "\n",
    "        list_with_single_boxes = [xmin, ymin, xmax, ymax]\n",
    "        list_with_all_boxes.append(list_with_single_boxes)\n",
    "        list_with_all_size = [width , height]\n",
    "        list_with_all_names.append(name)\n",
    "\n",
    "    return file_path,file_name, list_with_all_boxes,list_with_all_size,list_with_all_names"
   ]
  },
  {
   "cell_type": "markdown",
   "metadata": {},
   "source": [
    "#### Save Data Xml in a List"
   ]
  },
  {
   "cell_type": "code",
   "execution_count": 4,
   "metadata": {},
   "outputs": [],
   "source": [
    "Data_list=[]\n",
    "for file in os.listdir(\"local/imgs\"):\n",
    "    if file.endswith(\".xml\"):\n",
    "        Data_list.append(read_content(os.path.join(\"local/imgs\" , file)))\n"
   ]
  },
  {
   "cell_type": "code",
   "execution_count": 5,
   "metadata": {},
   "outputs": [
    {
     "name": "stdout",
     "output_type": "stream",
     "text": [
      "('F:\\\\STUDY\\\\1_ESPECIALIZACION_ANALITICA_CIENCIA DE DATOS\\\\EACD-MONOGRAFIA\\\\local\\\\imgs\\\\09-22-2020-14.53.24(1).jpg', '09-22-2020-14.53.24(1).jpg', [[267, 986, 544, 1050]], [1943, 2497], ['Formato_1'])\n",
      "('F:\\\\STUDY\\\\1_ESPECIALIZACION_ANALITICA_CIENCIA DE DATOS\\\\EACD-MONOGRAFIA\\\\local\\\\imgs\\\\2020-10-13_19_09_47_27_18936.jpg', '2020-10-13_19_09_47_27_18936.jpg', [[2225, 3552, 2748, 3657]], [3338, 4378], ['Formato_3'])\n"
     ]
    }
   ],
   "source": [
    "#Show Data_List\n",
    "print(Data_list[0]) \n",
    "print(Data_list[-1])"
   ]
  },
  {
   "cell_type": "code",
   "execution_count": 9,
   "metadata": {},
   "outputs": [
    {
     "data": {
      "text/plain": [
       "[1943, 2497]"
      ]
     },
     "execution_count": 9,
     "metadata": {},
     "output_type": "execute_result"
    }
   ],
   "source": [
    "Data_list[0][3]"
   ]
  },
  {
   "cell_type": "code",
   "execution_count": 15,
   "metadata": {},
   "outputs": [
    {
     "data": {
      "text/plain": [
       "1943"
      ]
     },
     "execution_count": 15,
     "metadata": {},
     "output_type": "execute_result"
    }
   ],
   "source": [
    "Data_list[0][3][0]"
   ]
  },
  {
   "cell_type": "markdown",
   "metadata": {},
   "source": [
    "#### Create CSV With Meta Data"
   ]
  },
  {
   "cell_type": "code",
   "execution_count": 16,
   "metadata": {},
   "outputs": [],
   "source": [
    "data_split = 0.7\n",
    "names = []\n",
    "splits = []\n",
    "labl = []\n",
    "xmin = []\n",
    "xmax = []\n",
    "ymin = []\n",
    "ymax=[]\n",
    "\n",
    "for i in Data_list:\n",
    "    \n",
    "    #split images in train and test\n",
    "    split = np.random.rand(1)[0]\n",
    "    if split < data_split:\n",
    "        spl='train'\n",
    "    else:\n",
    "        spl='test'\n",
    "        \n",
    "    #create metadata columns\n",
    "    splits.append(spl)\n",
    "    labl.append(i[4][0])\n",
    "    ymin.append(i[2][0][1]/i[3][1])\n",
    "    ymax.append(i[2][0][3]/i[3][1])\n",
    "    xmin.append(i[2][0][0]/i[3][0])\n",
    "    xmax.append(i[2][0][2]/i[3][0])\n",
    "    names.append(i[1])\n",
    "\n",
    "#generate dictionary to build csv\n",
    "df={}\n",
    "df[\"img\"]=names\n",
    "df[\"xmin\"]=xmin\n",
    "df[\"xmax\"]=xmax\n",
    "df[\"ymin\"]=ymin\n",
    "df[\"ymax\"]=ymax\n",
    "df['split']=splits\n",
    "df['label']=labl\n",
    "df = pd.DataFrame(df)\n",
    "df=df.replace(dic)\n",
    "\n",
    "#create csv with metadata information\n",
    "df.to_csv('local/data/metadata.csv', index=False)\n",
    "metadata=df"
   ]
  },
  {
   "cell_type": "markdown",
   "metadata": {},
   "source": [
    "#### Metada Data (Data Frame)"
   ]
  },
  {
   "cell_type": "code",
   "execution_count": 17,
   "metadata": {},
   "outputs": [
    {
     "data": {
      "text/html": [
       "<div>\n",
       "<style scoped>\n",
       "    .dataframe tbody tr th:only-of-type {\n",
       "        vertical-align: middle;\n",
       "    }\n",
       "\n",
       "    .dataframe tbody tr th {\n",
       "        vertical-align: top;\n",
       "    }\n",
       "\n",
       "    .dataframe thead th {\n",
       "        text-align: right;\n",
       "    }\n",
       "</style>\n",
       "<table border=\"1\" class=\"dataframe\">\n",
       "  <thead>\n",
       "    <tr style=\"text-align: right;\">\n",
       "      <th></th>\n",
       "      <th>img</th>\n",
       "      <th>xmin</th>\n",
       "      <th>xmax</th>\n",
       "      <th>ymin</th>\n",
       "      <th>ymax</th>\n",
       "      <th>split</th>\n",
       "      <th>label</th>\n",
       "    </tr>\n",
       "  </thead>\n",
       "  <tbody>\n",
       "    <tr>\n",
       "      <th>0</th>\n",
       "      <td>09-22-2020-14.53.24(1).jpg</td>\n",
       "      <td>0.137416</td>\n",
       "      <td>0.279979</td>\n",
       "      <td>0.394874</td>\n",
       "      <td>0.420505</td>\n",
       "      <td>train</td>\n",
       "      <td>1</td>\n",
       "    </tr>\n",
       "    <tr>\n",
       "      <th>1</th>\n",
       "      <td>09-22-2020-14.53.24(10).jpg</td>\n",
       "      <td>0.153446</td>\n",
       "      <td>0.291938</td>\n",
       "      <td>0.391390</td>\n",
       "      <td>0.415141</td>\n",
       "      <td>train</td>\n",
       "      <td>1</td>\n",
       "    </tr>\n",
       "    <tr>\n",
       "      <th>2</th>\n",
       "      <td>09-22-2020-14.53.24(100).jpg</td>\n",
       "      <td>0.142093</td>\n",
       "      <td>0.296076</td>\n",
       "      <td>0.380736</td>\n",
       "      <td>0.406633</td>\n",
       "      <td>train</td>\n",
       "      <td>1</td>\n",
       "    </tr>\n",
       "    <tr>\n",
       "      <th>3</th>\n",
       "      <td>09-22-2020-14.53.24(101).jpg</td>\n",
       "      <td>0.132850</td>\n",
       "      <td>0.283092</td>\n",
       "      <td>0.381750</td>\n",
       "      <td>0.409683</td>\n",
       "      <td>train</td>\n",
       "      <td>1</td>\n",
       "    </tr>\n",
       "    <tr>\n",
       "      <th>4</th>\n",
       "      <td>09-22-2020-14.53.24(102).jpg</td>\n",
       "      <td>0.137374</td>\n",
       "      <td>0.289899</td>\n",
       "      <td>0.372496</td>\n",
       "      <td>0.402928</td>\n",
       "      <td>test</td>\n",
       "      <td>1</td>\n",
       "    </tr>\n",
       "    <tr>\n",
       "      <th>5</th>\n",
       "      <td>09-22-2020-14.53.24(103).jpg</td>\n",
       "      <td>0.151140</td>\n",
       "      <td>0.323092</td>\n",
       "      <td>0.378483</td>\n",
       "      <td>0.401411</td>\n",
       "      <td>test</td>\n",
       "      <td>1</td>\n",
       "    </tr>\n",
       "    <tr>\n",
       "      <th>6</th>\n",
       "      <td>09-22-2020-14.53.24(104).jpg</td>\n",
       "      <td>0.128908</td>\n",
       "      <td>0.293472</td>\n",
       "      <td>0.375156</td>\n",
       "      <td>0.408504</td>\n",
       "      <td>test</td>\n",
       "      <td>1</td>\n",
       "    </tr>\n",
       "    <tr>\n",
       "      <th>7</th>\n",
       "      <td>09-22-2020-14.53.24(105).jpg</td>\n",
       "      <td>0.133891</td>\n",
       "      <td>0.283323</td>\n",
       "      <td>0.384511</td>\n",
       "      <td>0.406250</td>\n",
       "      <td>train</td>\n",
       "      <td>1</td>\n",
       "    </tr>\n",
       "    <tr>\n",
       "      <th>8</th>\n",
       "      <td>09-22-2020-14.53.24(106).jpg</td>\n",
       "      <td>0.153784</td>\n",
       "      <td>0.296296</td>\n",
       "      <td>0.399291</td>\n",
       "      <td>0.429415</td>\n",
       "      <td>train</td>\n",
       "      <td>1</td>\n",
       "    </tr>\n",
       "    <tr>\n",
       "      <th>9</th>\n",
       "      <td>09-22-2020-14.53.24(107).jpg</td>\n",
       "      <td>0.144700</td>\n",
       "      <td>0.299495</td>\n",
       "      <td>0.383726</td>\n",
       "      <td>0.410707</td>\n",
       "      <td>train</td>\n",
       "      <td>1</td>\n",
       "    </tr>\n",
       "  </tbody>\n",
       "</table>\n",
       "</div>"
      ],
      "text/plain": [
       "                            img      xmin      xmax      ymin      ymax  \\\n",
       "0    09-22-2020-14.53.24(1).jpg  0.137416  0.279979  0.394874  0.420505   \n",
       "1   09-22-2020-14.53.24(10).jpg  0.153446  0.291938  0.391390  0.415141   \n",
       "2  09-22-2020-14.53.24(100).jpg  0.142093  0.296076  0.380736  0.406633   \n",
       "3  09-22-2020-14.53.24(101).jpg  0.132850  0.283092  0.381750  0.409683   \n",
       "4  09-22-2020-14.53.24(102).jpg  0.137374  0.289899  0.372496  0.402928   \n",
       "5  09-22-2020-14.53.24(103).jpg  0.151140  0.323092  0.378483  0.401411   \n",
       "6  09-22-2020-14.53.24(104).jpg  0.128908  0.293472  0.375156  0.408504   \n",
       "7  09-22-2020-14.53.24(105).jpg  0.133891  0.283323  0.384511  0.406250   \n",
       "8  09-22-2020-14.53.24(106).jpg  0.153784  0.296296  0.399291  0.429415   \n",
       "9  09-22-2020-14.53.24(107).jpg  0.144700  0.299495  0.383726  0.410707   \n",
       "\n",
       "   split  label  \n",
       "0  train      1  \n",
       "1  train      1  \n",
       "2  train      1  \n",
       "3  train      1  \n",
       "4   test      1  \n",
       "5   test      1  \n",
       "6   test      1  \n",
       "7  train      1  \n",
       "8  train      1  \n",
       "9  train      1  "
      ]
     },
     "execution_count": 17,
     "metadata": {},
     "output_type": "execute_result"
    }
   ],
   "source": [
    "df.head(10)"
   ]
  },
  {
   "cell_type": "code",
   "execution_count": 20,
   "metadata": {},
   "outputs": [
    {
     "data": {
      "text/plain": [
       "<AxesSubplot:>"
      ]
     },
     "execution_count": 20,
     "metadata": {},
     "output_type": "execute_result"
    },
    {
     "data": {
      "image/png": "[encoded data removed]",
      "text/plain": [
       "<Figure size 432x288 with 1 Axes>"
      ]
     },
     "metadata": {
      "needs_background": "light"
     },
     "output_type": "display_data"
    }
   ],
   "source": [
    "df['split'].value_counts().plot(kind='bar')"
   ]
  },
  {
   "cell_type": "markdown",
   "metadata": {},
   "source": [
    "### Split Data"
   ]
  },
  {
   "cell_type": "code",
   "execution_count": 1,
   "metadata": {},
   "outputs": [],
   "source": [
    "def build_sources_from_metadata(metadata, data_dir, mode='train', exclude_labels=None):\n",
    "    \n",
    "    if exclude_labels is None:\n",
    "        exclude_labels = set()\n",
    "    if isinstance(exclude_labels, (list, tuple)):\n",
    "        exclude_labels = set(exclude_labels)\n",
    "\n",
    "    df = metadata.copy()\n",
    "    df = df[df['split'] == mode]\n",
    "    df['filepath'] = df['img'].apply(lambda x: os.path.join(data_dir, x))\n",
    "    include_mask = df['label'].apply(lambda x: x not in exclude_labels)\n",
    "    df = df[include_mask]\n",
    "\n",
    "    sources = list(zip(df['filepath'],zip(df[\"xmin\"],df[\"xmax\"],df[\"ymin\"],df[\"ymax\"]),df['label']))\n",
    "    return sources\n"
   ]
  },
  {
   "cell_type": "code",
   "execution_count": 2,
   "metadata": {},
   "outputs": [
    {
     "ename": "NameError",
     "evalue": "name 'metadata' is not defined",
     "output_type": "error",
     "traceback": [
      "\u001b[1;31m---------------------------------------------------------------------------\u001b[0m",
      "\u001b[1;31mNameError\u001b[0m                                 Traceback (most recent call last)",
      "\u001b[1;32m<ipython-input-2-ae061c787ac6>\u001b[0m in \u001b[0;36m<module>\u001b[1;34m\u001b[0m\n\u001b[1;32m----> 1\u001b[1;33m \u001b[0mtrain_sources\u001b[0m \u001b[1;33m=\u001b[0m \u001b[0mbuild_sources_from_metadata\u001b[0m\u001b[1;33m(\u001b[0m\u001b[0mmetadata\u001b[0m\u001b[1;33m,\u001b[0m \u001b[1;34m'local/imgs'\u001b[0m\u001b[1;33m)\u001b[0m\u001b[1;33m\u001b[0m\u001b[1;33m\u001b[0m\u001b[0m\n\u001b[0m\u001b[0;32m      2\u001b[0m \u001b[0mtest_sources\u001b[0m \u001b[1;33m=\u001b[0m \u001b[0mbuild_sources_from_metadata\u001b[0m\u001b[1;33m(\u001b[0m\u001b[0mmetadata\u001b[0m\u001b[1;33m,\u001b[0m \u001b[1;34m'local/imgs'\u001b[0m\u001b[1;33m,\u001b[0m\u001b[0mmode\u001b[0m\u001b[1;33m=\u001b[0m\u001b[1;34m'test'\u001b[0m\u001b[1;33m)\u001b[0m\u001b[1;33m\u001b[0m\u001b[1;33m\u001b[0m\u001b[0m\n",
      "\u001b[1;31mNameError\u001b[0m: name 'metadata' is not defined"
     ]
    }
   ],
   "source": [
    "train_sources = build_sources_from_metadata(metadata, 'local/imgs')\n",
    "test_sources = build_sources_from_metadata(metadata, 'local/imgs',mode='test')"
   ]
  },
  {
   "cell_type": "code",
   "execution_count": 34,
   "metadata": {},
   "outputs": [
    {
     "name": "stdout",
     "output_type": "stream",
     "text": [
      "<class 'list'>\n",
      "[('local/imgs\\\\09-22-2020-14.53.24(1).jpg', (0.13741636644364386, 0.2799794132784354, 0.394873848618342, 0.42050460552663194), 1), ('local/imgs\\\\09-22-2020-14.53.24(10).jpg', (0.15344603381014305, 0.2919375812743823, 0.3913904007916873, 0.4151410192973775), 1)]\n"
     ]
    }
   ],
   "source": [
    "print(type(train_sources))\n",
    "print(train_sources[0:2])"
   ]
  },
  {
   "cell_type": "code",
   "execution_count": null,
   "metadata": {},
   "outputs": [],
   "source": [
    "def imshow_batch_of_three(batch, num_images = 1, show_label=True ):\n",
    "    \n",
    "    label_batch = batch[1].numpy()\n",
    "    image_batch = batch[0].numpy()\n",
    "    fig, axarr = plt.subplots(1, num_images, figsize=(15, 5), sharey=True)\n",
    "    \n",
    "    for i in range(num_images):\n",
    "        img = image_batch[i, ...]\n",
    "        axarr[i].imshow(img)\n",
    "        if show_label:\n",
    "            axarr[i].set(xlabel='label = {}'.format(label_batch[i]))"
   ]
  },
  {
   "cell_type": "markdown",
   "metadata": {},
   "source": [
    "## TensorFlow DataSet"
   ]
  },
  {
   "cell_type": "code",
   "execution_count": 51,
   "metadata": {},
   "outputs": [],
   "source": [
    "def preprocess_image(image):\n",
    "    image = tf.image.resize(image, size=(224, 224))\n",
    "    image = image / 255.0\n",
    "    return image\n",
    "\n",
    "def augment_image(image):\n",
    "    return image\n",
    "\n",
    "def make_dataset(sources, training=False, batch_size=1,\n",
    "    num_epochs=1, num_parallel_calls=1, shuffle_buffer_size=None):\n",
    "    \n",
    "    \"\"\"\n",
    "    Returns an operation to iterate over the dataset specified in sources\n",
    "\n",
    "    Args:\n",
    "        sources (list): A list of (filepath, label_id) pairs.\n",
    "        training (bool): whether to apply certain processing steps\n",
    "            defined only in training mode (e.g. shuffle).\n",
    "        batch_size (int): number of elements the resulting tensor\n",
    "            should have.\n",
    "        num_epochs (int): Number of epochs to repeat the dataset.\n",
    "        num_parallel_calls (int): Number of parallel calls to use in\n",
    "            map operations.\n",
    "        shuffle_buffer_size (int): Number of elements from this dataset\n",
    "            from which the new dataset will sample.\n",
    "\n",
    "    Returns:\n",
    "        A tf.data.Dataset object. It will return a tuple images of shape\n",
    "        [N, H, W, CH] and labels shape [N, 1].\n",
    "    \"\"\"\n",
    "    def load(row):\n",
    "        filepath = row['image']\n",
    "        img = tf.io.read_file(filepath)\n",
    "        img = tf.io.decode_jpeg(img)\n",
    "        return img, row['label']\n",
    "\n",
    "    if shuffle_buffer_size is None:\n",
    "        shuffle_buffer_size = batch_size*4\n",
    "\n",
    "    images, Bounding_Box , labels = zip(*sources)\n",
    "    \n",
    "    ds = tf.data.Dataset.from_tensor_slices({\n",
    "        'image': list(images),'bounding_box' : list(Bounding_Box), 'label': list(labels)}) \n",
    " #line from the link. As with most code, if you remove an arbitrary line, expectin\n",
    "    if training:\n",
    "        ds = ds.shuffle(shuffle_buffer_size)\n",
    "    \n",
    "    ds = ds.map(load, num_parallel_calls=num_parallel_calls)\n",
    "    ds = ds.map(lambda x,y: (preprocess_image(x), y))\n",
    "    \n",
    "    if training:\n",
    "        ds = ds.map(lambda x,y: (augment_image(x), y))\n",
    "        \n",
    "    ds = ds.repeat(count=num_epochs)\n",
    "    ds = ds.batch(batch_size=batch_size)\n",
    "    ds = ds.prefetch(1)\n",
    "\n",
    "    return ds"
   ]
  },
  {
   "cell_type": "code",
   "execution_count": 52,
   "metadata": {},
   "outputs": [],
   "source": [
    "dataset = make_dataset(train_sources, training=False,\n",
    "    batch_size=3, num_epochs=1,\n",
    "    num_parallel_calls=3)"
   ]
  },
  {
   "cell_type": "code",
   "execution_count": 3,
   "metadata": {},
   "outputs": [
    {
     "ename": "ImportError",
     "evalue": "cannot import name 'load_data' from 'local.data' (unknown location)",
     "output_type": "error",
     "traceback": [
      "\u001b[1;31m---------------------------------------------------------------------------\u001b[0m",
      "\u001b[1;31mImportError\u001b[0m                               Traceback (most recent call last)",
      "\u001b[1;32m<ipython-input-3-94614bcd3982>\u001b[0m in \u001b[0;36m<module>\u001b[1;34m\u001b[0m\n\u001b[1;32m----> 1\u001b[1;33m \u001b[1;32mfrom\u001b[0m \u001b[0mlocal\u001b[0m\u001b[1;33m.\u001b[0m\u001b[0mdata\u001b[0m \u001b[1;32mimport\u001b[0m \u001b[0mload_data\u001b[0m\u001b[1;33m\u001b[0m\u001b[1;33m\u001b[0m\u001b[0m\n\u001b[0m",
      "\u001b[1;31mImportError\u001b[0m: cannot import name 'load_data' from 'local.data' (unknown location)"
     ]
    }
   ],
   "source": [
    "from local.data import load_data"
   ]
  },
  {
   "cell_type": "code",
   "execution_count": 4,
   "metadata": {},
   "outputs": [
    {
     "ename": "Exception",
     "evalue": "File `'local/data/lib/limyfile.py'` not found.",
     "output_type": "error",
     "traceback": [
      "\u001b[1;31m---------------------------------------------------------------------------\u001b[0m",
      "\u001b[1;31mOSError\u001b[0m                                   Traceback (most recent call last)",
      "\u001b[1;32m~\\Anaconda3\\envs\\tf-gpu\\lib\\site-packages\\IPython\\core\\magics\\execution.py\u001b[0m in \u001b[0;36mrun\u001b[1;34m(self, parameter_s, runner, file_finder)\u001b[0m\n\u001b[0;32m    702\u001b[0m             \u001b[0mfpath\u001b[0m \u001b[1;33m=\u001b[0m \u001b[0marg_lst\u001b[0m\u001b[1;33m[\u001b[0m\u001b[1;36m0\u001b[0m\u001b[1;33m]\u001b[0m\u001b[1;33m\u001b[0m\u001b[1;33m\u001b[0m\u001b[0m\n\u001b[1;32m--> 703\u001b[1;33m             \u001b[0mfilename\u001b[0m \u001b[1;33m=\u001b[0m \u001b[0mfile_finder\u001b[0m\u001b[1;33m(\u001b[0m\u001b[0mfpath\u001b[0m\u001b[1;33m)\u001b[0m\u001b[1;33m\u001b[0m\u001b[1;33m\u001b[0m\u001b[0m\n\u001b[0m\u001b[0;32m    704\u001b[0m         \u001b[1;32mexcept\u001b[0m \u001b[0mIndexError\u001b[0m\u001b[1;33m:\u001b[0m\u001b[1;33m\u001b[0m\u001b[1;33m\u001b[0m\u001b[0m\n",
      "\u001b[1;32m~\\Anaconda3\\envs\\tf-gpu\\lib\\site-packages\\IPython\\utils\\path.py\u001b[0m in \u001b[0;36mget_py_filename\u001b[1;34m(name, force_win32)\u001b[0m\n\u001b[0;32m    108\u001b[0m     \u001b[1;32melse\u001b[0m\u001b[1;33m:\u001b[0m\u001b[1;33m\u001b[0m\u001b[1;33m\u001b[0m\u001b[0m\n\u001b[1;32m--> 109\u001b[1;33m         \u001b[1;32mraise\u001b[0m \u001b[0mIOError\u001b[0m\u001b[1;33m(\u001b[0m\u001b[1;34m'File `%r` not found.'\u001b[0m \u001b[1;33m%\u001b[0m \u001b[0mname\u001b[0m\u001b[1;33m)\u001b[0m\u001b[1;33m\u001b[0m\u001b[1;33m\u001b[0m\u001b[0m\n\u001b[0m\u001b[0;32m    110\u001b[0m \u001b[1;33m\u001b[0m\u001b[0m\n",
      "\u001b[1;31mOSError\u001b[0m: File `'local/data/lib/limyfile.py'` not found.",
      "\nDuring handling of the above exception, another exception occurred:\n",
      "\u001b[1;31mException\u001b[0m                                 Traceback (most recent call last)",
      "\u001b[1;32m<ipython-input-4-dbf17e66d52f>\u001b[0m in \u001b[0;36m<module>\u001b[1;34m\u001b[0m\n\u001b[1;32m----> 1\u001b[1;33m \u001b[0mget_ipython\u001b[0m\u001b[1;33m(\u001b[0m\u001b[1;33m)\u001b[0m\u001b[1;33m.\u001b[0m\u001b[0mrun_line_magic\u001b[0m\u001b[1;33m(\u001b[0m\u001b[1;34m'run'\u001b[0m\u001b[1;33m,\u001b[0m \u001b[1;34m'local/data/lib/limyfile.py'\u001b[0m\u001b[1;33m)\u001b[0m\u001b[1;33m\u001b[0m\u001b[1;33m\u001b[0m\u001b[0m\n\u001b[0m",
      "\u001b[1;32m~\\Anaconda3\\envs\\tf-gpu\\lib\\site-packages\\IPython\\core\\interactiveshell.py\u001b[0m in \u001b[0;36mrun_line_magic\u001b[1;34m(self, magic_name, line, _stack_depth)\u001b[0m\n\u001b[0;32m   2324\u001b[0m                 \u001b[0mkwargs\u001b[0m\u001b[1;33m[\u001b[0m\u001b[1;34m'local_ns'\u001b[0m\u001b[1;33m]\u001b[0m \u001b[1;33m=\u001b[0m \u001b[0mself\u001b[0m\u001b[1;33m.\u001b[0m\u001b[0mget_local_scope\u001b[0m\u001b[1;33m(\u001b[0m\u001b[0mstack_depth\u001b[0m\u001b[1;33m)\u001b[0m\u001b[1;33m\u001b[0m\u001b[1;33m\u001b[0m\u001b[0m\n\u001b[0;32m   2325\u001b[0m             \u001b[1;32mwith\u001b[0m \u001b[0mself\u001b[0m\u001b[1;33m.\u001b[0m\u001b[0mbuiltin_trap\u001b[0m\u001b[1;33m:\u001b[0m\u001b[1;33m\u001b[0m\u001b[1;33m\u001b[0m\u001b[0m\n\u001b[1;32m-> 2326\u001b[1;33m                 \u001b[0mresult\u001b[0m \u001b[1;33m=\u001b[0m \u001b[0mfn\u001b[0m\u001b[1;33m(\u001b[0m\u001b[1;33m*\u001b[0m\u001b[0margs\u001b[0m\u001b[1;33m,\u001b[0m \u001b[1;33m**\u001b[0m\u001b[0mkwargs\u001b[0m\u001b[1;33m)\u001b[0m\u001b[1;33m\u001b[0m\u001b[1;33m\u001b[0m\u001b[0m\n\u001b[0m\u001b[0;32m   2327\u001b[0m             \u001b[1;32mreturn\u001b[0m \u001b[0mresult\u001b[0m\u001b[1;33m\u001b[0m\u001b[1;33m\u001b[0m\u001b[0m\n\u001b[0;32m   2328\u001b[0m \u001b[1;33m\u001b[0m\u001b[0m\n",
      "\u001b[1;32m<decorator-gen-53>\u001b[0m in \u001b[0;36mrun\u001b[1;34m(self, parameter_s, runner, file_finder)\u001b[0m\n",
      "\u001b[1;32m~\\Anaconda3\\envs\\tf-gpu\\lib\\site-packages\\IPython\\core\\magic.py\u001b[0m in \u001b[0;36m<lambda>\u001b[1;34m(f, *a, **k)\u001b[0m\n\u001b[0;32m    185\u001b[0m     \u001b[1;31m# but it's overkill for just that one bit of state.\u001b[0m\u001b[1;33m\u001b[0m\u001b[1;33m\u001b[0m\u001b[1;33m\u001b[0m\u001b[0m\n\u001b[0;32m    186\u001b[0m     \u001b[1;32mdef\u001b[0m \u001b[0mmagic_deco\u001b[0m\u001b[1;33m(\u001b[0m\u001b[0marg\u001b[0m\u001b[1;33m)\u001b[0m\u001b[1;33m:\u001b[0m\u001b[1;33m\u001b[0m\u001b[1;33m\u001b[0m\u001b[0m\n\u001b[1;32m--> 187\u001b[1;33m         \u001b[0mcall\u001b[0m \u001b[1;33m=\u001b[0m \u001b[1;32mlambda\u001b[0m \u001b[0mf\u001b[0m\u001b[1;33m,\u001b[0m \u001b[1;33m*\u001b[0m\u001b[0ma\u001b[0m\u001b[1;33m,\u001b[0m \u001b[1;33m**\u001b[0m\u001b[0mk\u001b[0m\u001b[1;33m:\u001b[0m \u001b[0mf\u001b[0m\u001b[1;33m(\u001b[0m\u001b[1;33m*\u001b[0m\u001b[0ma\u001b[0m\u001b[1;33m,\u001b[0m \u001b[1;33m**\u001b[0m\u001b[0mk\u001b[0m\u001b[1;33m)\u001b[0m\u001b[1;33m\u001b[0m\u001b[1;33m\u001b[0m\u001b[0m\n\u001b[0m\u001b[0;32m    188\u001b[0m \u001b[1;33m\u001b[0m\u001b[0m\n\u001b[0;32m    189\u001b[0m         \u001b[1;32mif\u001b[0m \u001b[0mcallable\u001b[0m\u001b[1;33m(\u001b[0m\u001b[0marg\u001b[0m\u001b[1;33m)\u001b[0m\u001b[1;33m:\u001b[0m\u001b[1;33m\u001b[0m\u001b[1;33m\u001b[0m\u001b[0m\n",
      "\u001b[1;32m~\\Anaconda3\\envs\\tf-gpu\\lib\\site-packages\\IPython\\core\\magics\\execution.py\u001b[0m in \u001b[0;36mrun\u001b[1;34m(self, parameter_s, runner, file_finder)\u001b[0m\n\u001b[0;32m    712\u001b[0m             \u001b[1;32mif\u001b[0m \u001b[0mos\u001b[0m\u001b[1;33m.\u001b[0m\u001b[0mname\u001b[0m \u001b[1;33m==\u001b[0m \u001b[1;34m'nt'\u001b[0m \u001b[1;32mand\u001b[0m \u001b[0mre\u001b[0m\u001b[1;33m.\u001b[0m\u001b[0mmatch\u001b[0m\u001b[1;33m(\u001b[0m\u001b[1;34mr\"^'.*'$\"\u001b[0m\u001b[1;33m,\u001b[0m\u001b[0mfpath\u001b[0m\u001b[1;33m)\u001b[0m\u001b[1;33m:\u001b[0m\u001b[1;33m\u001b[0m\u001b[1;33m\u001b[0m\u001b[0m\n\u001b[0;32m    713\u001b[0m                 \u001b[0mwarn\u001b[0m\u001b[1;33m(\u001b[0m\u001b[1;34m'For Windows, use double quotes to wrap a filename: %run \"mypath\\\\myfile.py\"'\u001b[0m\u001b[1;33m)\u001b[0m\u001b[1;33m\u001b[0m\u001b[1;33m\u001b[0m\u001b[0m\n\u001b[1;32m--> 714\u001b[1;33m             \u001b[1;32mraise\u001b[0m \u001b[0mException\u001b[0m\u001b[1;33m(\u001b[0m\u001b[0mmsg\u001b[0m\u001b[1;33m)\u001b[0m\u001b[1;33m\u001b[0m\u001b[1;33m\u001b[0m\u001b[0m\n\u001b[0m\u001b[0;32m    715\u001b[0m         \u001b[1;32mexcept\u001b[0m \u001b[0mTypeError\u001b[0m\u001b[1;33m:\u001b[0m\u001b[1;33m\u001b[0m\u001b[1;33m\u001b[0m\u001b[0m\n\u001b[0;32m    716\u001b[0m             \u001b[1;32mif\u001b[0m \u001b[0mfpath\u001b[0m \u001b[1;32min\u001b[0m \u001b[0msys\u001b[0m\u001b[1;33m.\u001b[0m\u001b[0mmeta_path\u001b[0m\u001b[1;33m:\u001b[0m\u001b[1;33m\u001b[0m\u001b[1;33m\u001b[0m\u001b[0m\n",
      "\u001b[1;31mException\u001b[0m: File `'local/data/lib/limyfile.py'` not found."
     ]
    }
   ],
   "source": [
    "%run local/data/lib/limyfile.py"
   ]
  },
  {
   "cell_type": "code",
   "execution_count": null,
   "metadata": {},
   "outputs": [],
   "source": []
  }
 ],
 "metadata": {
  "colab": {
   "authorship_tag": "ABX9TyN1Jex320roLyq9LLV+Ada6",
   "include_colab_link": true,
   "name": "01-MONOGRAFIA.ipynb",
   "provenance": [],
   "toc_visible": true
  },
  "kernelspec": {
   "display_name": "Python 3",
   "language": "python",
   "name": "python3"
  },
  "language_info": {
   "codemirror_mode": {
    "name": "ipython",
    "version": 3
   },
   "file_extension": ".py",
   "mimetype": "text/x-python",
   "name": "python",
   "nbconvert_exporter": "python",
   "pygments_lexer": "ipython3",
   "version": "3.7.9"
  }
 },
 "nbformat": 4,
 "nbformat_minor": 1
}
